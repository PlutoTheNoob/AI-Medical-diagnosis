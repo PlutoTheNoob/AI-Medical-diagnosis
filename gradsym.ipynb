{
 "cells": [
  {
   "cell_type": "code",
   "execution_count": 43,
   "id": "e42550c8-0bde-41cf-aab7-0f3d08ee6523",
   "metadata": {},
   "outputs": [],
   "source": [
    "import pandas as pd\n",
    "import numpy as np\n",
    "import matplotlib.pyplot as plt\n",
    "import cv2\n",
    "import joblib\n",
    "from sklearn.model_selection import train_test_split\n",
    "from sklearn.preprocessing import StandardScaler\n",
    "from sklearn.linear_model import LogisticRegression\n",
    "from sklearn.metrics import (\n",
    "    accuracy_score, precision_score, recall_score, f1_score, confusion_matrix, classification_report\n",
    ")\n",
    "from sklearn.ensemble import RandomForestClassifier\n",
    "from sklearn.linear_model import LogisticRegression\n",
    "from xgboost import XGBClassifier"
   ]
  },
  {
   "cell_type": "code",
   "execution_count": 46,
   "id": "3e190d56-8767-4b6c-879b-76fd57406498",
   "metadata": {},
   "outputs": [],
   "source": [
    "dataset = pd.read_csv(r'F:\\GRAD PROJECT\\dat3.csv')"
   ]
  },
  {
   "cell_type": "code",
   "execution_count": 47,
   "id": "0e06a924-34ef-4be4-bbe8-31429eea966d",
   "metadata": {},
   "outputs": [
    {
     "data": {
      "text/plain": [
       "cough                   243\n",
       "fever                   243\n",
       "sore_throat             243\n",
       "shortness_of_breath     243\n",
       "head_ache               243\n",
       "corona_result           243\n",
       "age_60_and_above        243\n",
       "gender                 5371\n",
       "test_indication         243\n",
       "dtype: int64"
      ]
     },
     "execution_count": 47,
     "metadata": {},
     "output_type": "execute_result"
    }
   ],
   "source": [
    "datx = dataset.drop(columns=['corona_result'])\n",
    "daty = dataset['corona_result']"
   ]
  },
  {
   "cell_type": "code",
   "execution_count": 48,
   "id": "83edece2-0af2-4352-8818-0126c478dca3",
   "metadata": {},
   "outputs": [],
   "source": [
    "featuretrain, featuretest, targettrain, targettest = train_test_split(datx, daty, test_size = 0.2)"
   ]
  },
  {
   "cell_type": "code",
   "execution_count": 49,
   "id": "2f6a7935-6295-45f4-88f8-af1167bbc4ae",
   "metadata": {},
   "outputs": [
    {
     "data": {
      "text/plain": [
       "cough                  0\n",
       "fever                  0\n",
       "sore_throat            0\n",
       "shortness_of_breath    0\n",
       "head_ache              0\n",
       "corona_result          0\n",
       "age_60_and_above       0\n",
       "gender                 0\n",
       "test_indication        0\n",
       "dtype: int64"
      ]
     },
     "execution_count": 49,
     "metadata": {},
     "output_type": "execute_result"
    }
   ],
   "source": [
    "model = XGBClassifier(use_label_encoder=False, eval_metric='logloss')\n",
    "model.fit(featuretrain, targettrain)"
   ]
  },
  {
   "cell_type": "code",
   "execution_count": 50,
   "id": "466ac470-cd9c-458d-9cb8-cb9790d56ee5",
   "metadata": {},
   "outputs": [
    {
     "name": "stderr",
     "output_type": "stream",
     "text": [
      "C:\\Users\\Rashad\\AppData\\Local\\Temp\\ipykernel_1892\\40634343.py:2: FutureWarning: Downcasting behavior in `replace` is deprecated and will be removed in a future version. To retain the old behavior, explicitly call `result.infer_objects(copy=False)`. To opt-in to the future behavior, set `pd.set_option('future.no_silent_downcasting', True)`\n",
      "  df=df.replace(to_replace=\"Yes\", value=1.0)\n",
      "C:\\Users\\Rashad\\AppData\\Local\\Temp\\ipykernel_1892\\40634343.py:4: FutureWarning: Downcasting behavior in `replace` is deprecated and will be removed in a future version. To retain the old behavior, explicitly call `result.infer_objects(copy=False)`. To opt-in to the future behavior, set `pd.set_option('future.no_silent_downcasting', True)`\n",
      "  df=df.replace(to_replace=\"Female\",value=1.0)\n",
      "C:\\Users\\Rashad\\AppData\\Local\\Temp\\ipykernel_1892\\40634343.py:7: FutureWarning: Downcasting behavior in `replace` is deprecated and will be removed in a future version. To retain the old behavior, explicitly call `result.infer_objects(copy=False)`. To opt-in to the future behavior, set `pd.set_option('future.no_silent_downcasting', True)`\n",
      "  df=df.replace(to_replace=\"Contact with confirmed\",value=3.0)\n"
     ]
    }
   ],
   "source": [
    "prediction2 = model.predict(featuretest)\n",
    "accuracy = accuracy_score(targettest2, prediction2)\n",
    "precision = precision_score(targettest2, prediction2)\n",
    "recall = recall_score(targettest2, prediction2)\n",
    "f1 = f1_score(targettest2, prediction2)\n",
    "\n",
    "metrics = {\n",
    "        \"Metric\": [\"Accuracy\", \"Precision\", \"Recall\", \"F1 Score\"],\n",
    "        \"Score\": [\n",
    "            accuracy, precision ,recall ,f1 ,\n",
    "        ],\n",
    "    }\n",
    "\n",
    "\n",
    "confusion = confusion_matrix(targettest2, prediction2)\n",
    "print('Accuracy:', accuracy*100)\n",
    "print(\"Confusion Matrix:\")\n",
    "print(confusion)\n",
    "print(\"\\nClassification Report:\")\n",
    "print(classification_report(targettest2, prediction2))\n",
    "print(\"\\nEvaluation Matrix:\")\n",
    "print(metrics)\n",
    "#joblib.dump(model2, 'C:/Users/Rashad/Documents/DT.pkl')"
   ]
  },
  {
   "cell_type": "code",
   "execution_count": 51,
   "id": "e81ff3e3-b4f8-4e5e-bc8a-ebc393e1c4f1",
   "metadata": {},
   "outputs": [],
   "source": []
  },
  {
   "cell_type": "code",
   "execution_count": 52,
   "id": "a000adbf-31aa-4e5a-9da2-b485c4b20b02",
   "metadata": {},
   "outputs": [
    {
     "data": {
      "text/plain": [
       "['C:/Users/Rashad/Documents/LRGRADTEST.pkl']"
      ]
     },
     "execution_count": 52,
     "metadata": {},
     "output_type": "execute_result"
    }
   ],
   "source": []
  },
  {
   "cell_type": "code",
   "execution_count": null,
   "id": "cb4c3170-507e-48b0-a6ac-e93f6bd56fef",
   "metadata": {},
   "outputs": [],
   "source": []
  }
 ],
 "metadata": {
  "kernelspec": {
   "display_name": "Python 3.13",
   "language": "python",
   "name": "python313"
  },
  "language_info": {
   "codemirror_mode": {
    "name": "ipython",
    "version": 3
   },
   "file_extension": ".py",
   "mimetype": "text/x-python",
   "name": "python",
   "nbconvert_exporter": "python",
   "pygments_lexer": "ipython3",
   "version": "3.13.3"
  }
 },
 "nbformat": 4,
 "nbformat_minor": 5
}
